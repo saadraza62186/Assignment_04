{
  "nbformat": 4,
  "nbformat_minor": 0,
  "metadata": {
    "colab": {
      "provenance": [],
      "authorship_tag": "ABX9TyN2L9qcbBK2dzP9d12xi38B",
      "include_colab_link": true
    },
    "kernelspec": {
      "name": "python3",
      "display_name": "Python 3"
    },
    "language_info": {
      "name": "python"
    }
  },
  "cells": [
    {
      "cell_type": "markdown",
      "metadata": {
        "id": "view-in-github",
        "colab_type": "text"
      },
      "source": [
        "<a href=\"https://colab.research.google.com/github/saadraza62186/Assignment_04/blob/main/Guess_The_Number_2.ipynb\" target=\"_parent\"><img src=\"https://colab.research.google.com/assets/colab-badge.svg\" alt=\"Open In Colab\"/></a>"
      ]
    },
    {
      "cell_type": "code",
      "execution_count": 1,
      "metadata": {
        "colab": {
          "base_uri": "https://localhost:8080/"
        },
        "id": "-mEf__ofxslv",
        "outputId": "09873652-7073-49a3-a55d-998b26bf3ec7"
      },
      "outputs": [
        {
          "output_type": "stream",
          "name": "stdout",
          "text": [
            " is 9 too hig (H) ,too low (L) or correct (c) ?4\n",
            " is 2 too hig (H) ,too low (L) or correct (c) ?l\n",
            " is 10 too hig (H) ,too low (L) or correct (c) ?c\n",
            "yay! the computer guessed 10 correctly\n"
          ]
        }
      ],
      "source": [
        "import random\n",
        "def computer_guess(x):\n",
        "  low=1\n",
        "  high=x\n",
        "  feedback=''\n",
        "  while feedback != 'c':\n",
        "    if low != high:\n",
        "      guess=random.randint(low,high)\n",
        "    else:\n",
        "      guess=low\n",
        "    feedback=input(f\" is {guess} too hig (H) ,too low (L) or correct (c) ?\").lower()\n",
        "    if feedback == 'h':\n",
        "      high = guess-1\n",
        "    elif feedback =='l':\n",
        "      low= guess+1\n",
        "  print(f\"yay! the computer guessed {guess} correctly\")\n",
        "computer_guess(20)\n",
        ""
      ]
    },
    {
      "cell_type": "code",
      "source": [],
      "metadata": {
        "id": "m70vu24-xzRI"
      },
      "execution_count": null,
      "outputs": []
    }
  ]
}