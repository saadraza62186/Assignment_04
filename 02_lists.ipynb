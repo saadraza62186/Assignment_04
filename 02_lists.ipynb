{
  "nbformat": 4,
  "nbformat_minor": 0,
  "metadata": {
    "colab": {
      "provenance": [],
      "authorship_tag": "ABX9TyNnItTkMTdw5Kk2bpDzxhiU",
      "include_colab_link": true
    },
    "kernelspec": {
      "name": "python3",
      "display_name": "Python 3"
    },
    "language_info": {
      "name": "python"
    }
  },
  "cells": [
    {
      "cell_type": "markdown",
      "metadata": {
        "id": "view-in-github",
        "colab_type": "text"
      },
      "source": [
        "<a href=\"https://colab.research.google.com/github/saadraza62186/Assignment_04/blob/main/02_lists.ipynb\" target=\"_parent\"><img src=\"https://colab.research.google.com/assets/colab-badge.svg\" alt=\"Open In Colab\"/></a>"
      ]
    },
    {
      "cell_type": "code",
      "execution_count": null,
      "metadata": {
        "id": "LrON-CgZo2Rl"
      },
      "outputs": [],
      "source": []
    },
    {
      "cell_type": "markdown",
      "source": [
        "**Assignment_01**"
      ],
      "metadata": {
        "id": "hSSwAFzupDzL"
      }
    },
    {
      "cell_type": "code",
      "source": [
        "def add_many_numbers(numbers)->int:\n",
        "  total:int=0\n",
        "  for number in numbers:\n",
        "    total+=number\n",
        "  return total\n",
        "\n",
        "def sum():\n",
        "  numbers:list[int]=[2,4,6,8,10,12,14,16]\n",
        "  sum:int=add_many_numbers(numbers)\n",
        "  print (sum)\n",
        "\n",
        "if __name__ == \"__main__\":\n",
        "  sum()\n",
        ""
      ],
      "metadata": {
        "colab": {
          "base_uri": "https://localhost:8080/"
        },
        "id": "X9P3RodZpGu7",
        "outputId": "10d0dd93-4df3-4580-af69-15c0bfb29574"
      },
      "execution_count": 1,
      "outputs": [
        {
          "output_type": "stream",
          "name": "stdout",
          "text": [
            "72\n"
          ]
        }
      ]
    },
    {
      "cell_type": "markdown",
      "source": [
        "**02_Assignment**"
      ],
      "metadata": {
        "id": "zmr91vxRpPmk"
      }
    },
    {
      "cell_type": "code",
      "source": [
        "def double():\n",
        "  numbers:list[int]=[1,2,3,4,5,6,7,8]\n",
        "  for i in range(len(numbers)):\n",
        "    elem=numbers[i]\n",
        "    numbers[i]=elem*2\n",
        "  print (numbers)\n",
        "\n",
        "if __name__ == \"__main__\":\n",
        "  double()"
      ],
      "metadata": {
        "colab": {
          "base_uri": "https://localhost:8080/"
        },
        "id": "1pY5adBFpSo7",
        "outputId": "5ac5a302-2249-4076-ba69-a52603e872e8"
      },
      "execution_count": 2,
      "outputs": [
        {
          "output_type": "stream",
          "name": "stdout",
          "text": [
            "[2, 4, 6, 8, 10, 12, 14, 16]\n"
          ]
        }
      ]
    },
    {
      "cell_type": "markdown",
      "source": [
        "**03_Assignment**"
      ],
      "metadata": {
        "id": "ngOAgetGpV2a"
      }
    },
    {
      "cell_type": "code",
      "source": [
        "def add_three_copies(my_list, data):\n",
        "    for i in range(3):\n",
        "        my_list.append(data)\n",
        "\n",
        "\n",
        "def message():\n",
        "    message = input(\"Enter a message to copy: \")\n",
        "    my_list = []\n",
        "    print(\"List before:\", my_list)\n",
        "    add_three_copies(my_list, message)\n",
        "    print(\"List after:\", my_list)\n",
        "\n",
        "if __name__ == \"__main__\":\n",
        "    message()\n"
      ],
      "metadata": {
        "colab": {
          "base_uri": "https://localhost:8080/"
        },
        "id": "6009a_wMpZZs",
        "outputId": "58288d13-ac4a-4d55-f4a2-633de67c4819"
      },
      "execution_count": 3,
      "outputs": [
        {
          "output_type": "stream",
          "name": "stdout",
          "text": [
            "Enter a message to copy: 23\n",
            "List before: []\n",
            "List after: ['23', '23', '23']\n"
          ]
        }
      ]
    },
    {
      "cell_type": "markdown",
      "source": [
        "**04_Assignment**"
      ],
      "metadata": {
        "id": "gLNzYybrpeuT"
      }
    },
    {
      "cell_type": "code",
      "source": [
        "def get_first_element(list):\n",
        "\n",
        "    print(\"this is a program to print the first element of the provided list\")\n",
        "    print(list[0])\n",
        "\n",
        "def get_list():\n",
        "    list=[]\n",
        "    element:str=input(\"Please enter an element of the list or press enter to stop. \")\n",
        "    while element != \"\":\n",
        "        list.append(element)\n",
        "        element = input(\"Please enter an element of the list or press enter to stop. \")\n",
        "    return list\n",
        "\n",
        "def first_element():\n",
        "    list = get_list()\n",
        "    get_first_element(list)\n",
        "\n",
        "\n",
        "\n",
        "\n",
        "if __name__ == '__main__':\n",
        "    first_element()"
      ],
      "metadata": {
        "colab": {
          "base_uri": "https://localhost:8080/"
        },
        "id": "9FhFURmEpg_D",
        "outputId": "17664b4b-4d6b-45e6-f41d-4b862829e45d"
      },
      "execution_count": 4,
      "outputs": [
        {
          "output_type": "stream",
          "name": "stdout",
          "text": [
            "Please enter an element of the list or press enter to stop. hey\n",
            "Please enter an element of the list or press enter to stop. hello\n",
            "Please enter an element of the list or press enter to stop. hi\n",
            "Please enter an element of the list or press enter to stop. ee\n",
            "Please enter an element of the list or press enter to stop. hey\n",
            "Please enter an element of the list or press enter to stop. element\n",
            "Please enter an element of the list or press enter to stop. \n",
            "this is a program to print the first element of the provided list\n",
            "hey\n"
          ]
        }
      ]
    },
    {
      "cell_type": "markdown",
      "source": [
        "**05_Assignment**"
      ],
      "metadata": {
        "id": "re_cBXt5p-hz"
      }
    },
    {
      "cell_type": "code",
      "source": [
        "def get_last_element(list):\n",
        "  print(\"this is a program to get the last item of the provided list\")\n",
        "  print(list[-1])\n",
        "\n",
        "def get_list():\n",
        "  list=[]\n",
        "  element:str=input(\"Please enter an element of the list or press enter to stop. \")\n",
        "  while element != \"\":\n",
        "    list.append(element)\n",
        "    element = input(\"Please enter an element of the list or press enter to stop. \")\n",
        "  return list\n",
        "\n",
        "def last_element():\n",
        "  list=get_list()\n",
        "  get_last_element(list)\n",
        "\n",
        "if __name__ == '__main__':\n",
        "  last_element()"
      ],
      "metadata": {
        "colab": {
          "base_uri": "https://localhost:8080/"
        },
        "id": "7PFOgeoHqBLa",
        "outputId": "68ccb26c-efd4-40a4-d4ab-53a563ebf75b"
      },
      "execution_count": 5,
      "outputs": [
        {
          "output_type": "stream",
          "name": "stdout",
          "text": [
            "Please enter an element of the list or press enter to stop. 22\n",
            "Please enter an element of the list or press enter to stop. 22\n",
            "Please enter an element of the list or press enter to stop. 22\n",
            "Please enter an element of the list or press enter to stop. 33\n",
            "Please enter an element of the list or press enter to stop. 44\n",
            "Please enter an element of the list or press enter to stop. \n",
            "this is a program to get the last item of the provided list\n",
            "44\n"
          ]
        }
      ]
    },
    {
      "cell_type": "markdown",
      "source": [
        "**06_Assignment**"
      ],
      "metadata": {
        "id": "BQH8td0GqKUy"
      }
    },
    {
      "cell_type": "code",
      "source": [
        "from os import removexattr\n",
        "def get_list():\n",
        "  list:str=[]\n",
        "  val:str=input(\"Please enter a value:\")\n",
        "  while val:\n",
        "    list.append(val)\n",
        "    val = input(\"Please enter a value: \")\n",
        "\n",
        "  print(\"Here's the list:\", list)\n",
        "\n",
        "if __name__ == '__main__':\n",
        "  get_list()\n"
      ],
      "metadata": {
        "colab": {
          "base_uri": "https://localhost:8080/"
        },
        "id": "OGX3mNsyqM3b",
        "outputId": "f58d38c3-1f5c-4fe4-b26d-081535dfb0ea"
      },
      "execution_count": 6,
      "outputs": [
        {
          "output_type": "stream",
          "name": "stdout",
          "text": [
            "Please enter a value:Hy\n",
            "Please enter a value: My name is Saad\n",
            "Please enter a value: raza\n",
            "Please enter a value: \n",
            "Here's the list: ['Hy', 'My name is Saad', 'raza']\n"
          ]
        }
      ]
    },
    {
      "cell_type": "markdown",
      "source": [
        "**07_Assignment**"
      ],
      "metadata": {
        "id": "4K5IL9cFqcTq"
      }
    },
    {
      "cell_type": "code",
      "source": [
        "max_legth:int=3\n",
        "def shorten(list):\n",
        "  while len(list) >= max_legth:\n",
        "    last_elem=list.pop()\n",
        "    print(last_elem)\n",
        "\n",
        "def get_list():\n",
        "  list=[]\n",
        "  element=input(\"Please enter an element to add to the list :\")\n",
        "  while element != \"\":\n",
        "    list.append(element)\n",
        "    element=input(\"Please enter an element to add to the list or press enter to stop :\")\n",
        "  return list\n",
        "\n",
        "def shorten_list():\n",
        "  list=get_list()\n",
        "  shorten(list)\n",
        "\n",
        "if __name__ == '__main__':\n",
        "  shorten_list()\n",
        ""
      ],
      "metadata": {
        "colab": {
          "base_uri": "https://localhost:8080/"
        },
        "id": "dTXOLrMiqf6T",
        "outputId": "53179625-b0b0-459d-85d6-0864360421a9"
      },
      "execution_count": 7,
      "outputs": [
        {
          "name": "stdout",
          "output_type": "stream",
          "text": [
            "Please enter an element to add to the list :Hey\n",
            "Please enter an element to add to the list or press enter to stop :\n"
          ]
        }
      ]
    },
    {
      "cell_type": "code",
      "source": [
        "\n"
      ],
      "metadata": {
        "id": "zV5OtxA6qXvj"
      },
      "execution_count": null,
      "outputs": []
    },
    {
      "cell_type": "code",
      "source": [],
      "metadata": {
        "id": "ghKkBkGfpI9h"
      },
      "execution_count": null,
      "outputs": []
    }
  ]
}