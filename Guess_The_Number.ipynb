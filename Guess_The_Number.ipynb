{
  "nbformat": 4,
  "nbformat_minor": 0,
  "metadata": {
    "colab": {
      "provenance": [],
      "authorship_tag": "ABX9TyOW5mtUtYdORjGsGVTLsdSa",
      "include_colab_link": true
    },
    "kernelspec": {
      "name": "python3",
      "display_name": "Python 3"
    },
    "language_info": {
      "name": "python"
    }
  },
  "cells": [
    {
      "cell_type": "markdown",
      "metadata": {
        "id": "view-in-github",
        "colab_type": "text"
      },
      "source": [
        "<a href=\"https://colab.research.google.com/github/saadraza62186/Assignment_04/blob/main/Guess_The_Number.ipynb\" target=\"_parent\"><img src=\"https://colab.research.google.com/assets/colab-badge.svg\" alt=\"Open In Colab\"/></a>"
      ]
    },
    {
      "cell_type": "code",
      "execution_count": 1,
      "metadata": {
        "colab": {
          "base_uri": "https://localhost:8080/"
        },
        "id": "LhcjJTf1xQcj",
        "outputId": "65f1a5e1-2b3b-4514-a3e2-6ad8bbce756a"
      },
      "outputs": [
        {
          "output_type": "stream",
          "name": "stdout",
          "text": [
            "Guess a number between 1 and 10:3\n",
            "Sorry , guess again , Too low\n",
            "Guess a number between 1 and 10:5\n",
            "Sorry , guess again , Too low\n",
            "Guess a number between 1 and 10:7\n",
            "Congratulations! You have guessed the number 7 correctly!!!\n"
          ]
        }
      ],
      "source": [
        "import random\n",
        "\n",
        "def guess(x):\n",
        "  random_number = random.randint(1,x)\n",
        "  guess = 0\n",
        "  while guess != random_number:\n",
        "    guess = int(input(f\"Guess a number between 1 and {x}:\"))\n",
        "    if guess < random_number:\n",
        "      print(\"Sorry , guess again , Too low\")\n",
        "    elif guess > random_number:\n",
        "      print(\"Sorry , guess again , Too high\")\n",
        "  print(f\"Congratulations! You have guessed the number {random_number} correctly!!!\")\n",
        "\n",
        "if __name__ == \"__main__\":\n",
        "  guess(10)\n",
        "\n",
        ""
      ]
    },
    {
      "cell_type": "code",
      "source": [],
      "metadata": {
        "id": "mrERd_jSxXFS"
      },
      "execution_count": null,
      "outputs": []
    }
  ]
}