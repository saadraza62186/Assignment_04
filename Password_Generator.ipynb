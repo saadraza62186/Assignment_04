{
  "nbformat": 4,
  "nbformat_minor": 0,
  "metadata": {
    "colab": {
      "provenance": [],
      "authorship_tag": "ABX9TyOU3oQ+m0YLN9JuE+5+C4CP",
      "include_colab_link": true
    },
    "kernelspec": {
      "name": "python3",
      "display_name": "Python 3"
    },
    "language_info": {
      "name": "python"
    }
  },
  "cells": [
    {
      "cell_type": "markdown",
      "metadata": {
        "id": "view-in-github",
        "colab_type": "text"
      },
      "source": [
        "<a href=\"https://colab.research.google.com/github/saadraza62186/Assignment_04/blob/main/Password_Generator.ipynb\" target=\"_parent\"><img src=\"https://colab.research.google.com/assets/colab-badge.svg\" alt=\"Open In Colab\"/></a>"
      ]
    },
    {
      "cell_type": "code",
      "execution_count": 1,
      "metadata": {
        "colab": {
          "base_uri": "https://localhost:8080/"
        },
        "id": "mKXDdhhSzFXZ",
        "outputId": "09e20296-94b6-479f-90ee-6749076d1cd5"
      },
      "outputs": [
        {
          "output_type": "stream",
          "name": "stdout",
          "text": [
            "Welcome to your Password Generator\n",
            "Amount of passwords to generate: ? 2\n",
            "Input your password length: ? 2\n",
            "\n",
            " here are your passwords: \n",
            "GT\n",
            "xN\n"
          ]
        }
      ],
      "source": [
        "import random\n",
        "print(\"Welcome to your Password Generator\")\n",
        "\n",
        "chars='abcdefghijklmnopqrstuvwxyzABCDEFGHIJKLMNOPQRSTUVWXYZ!@#$%^&*()1234567890'\n",
        "\n",
        "number=input(\"Amount of passwords to generate: ? \")\n",
        "number=int(number)\n",
        "\n",
        "length=input(\"Input your password length: ? \")\n",
        "length=int(length)\n",
        "\n",
        "print(\"\\n here are your passwords: \")\n",
        "\n",
        "for pwd in range(number):\n",
        "  passwords=\"\"\n",
        "  for c in range(length):\n",
        "    passwords+=random.choice(chars)\n",
        "  print(passwords)\n"
      ]
    },
    {
      "cell_type": "code",
      "source": [],
      "metadata": {
        "id": "NwwYxDFNzNPG"
      },
      "execution_count": null,
      "outputs": []
    }
  ]
}