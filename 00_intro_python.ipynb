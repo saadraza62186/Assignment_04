{
  "nbformat": 4,
  "nbformat_minor": 0,
  "metadata": {
    "colab": {
      "provenance": [],
      "authorship_tag": "ABX9TyO+ABDMYzmVbhlUpHDBhUrI",
      "include_colab_link": true
    },
    "kernelspec": {
      "name": "python3",
      "display_name": "Python 3"
    },
    "language_info": {
      "name": "python"
    }
  },
  "cells": [
    {
      "cell_type": "markdown",
      "metadata": {
        "id": "view-in-github",
        "colab_type": "text"
      },
      "source": [
        "<a href=\"https://colab.research.google.com/github/saadraza62186/Assignment_04/blob/main/00_intro_python.ipynb\" target=\"_parent\"><img src=\"https://colab.research.google.com/assets/colab-badge.svg\" alt=\"Open In Colab\"/></a>"
      ]
    },
    {
      "cell_type": "code",
      "source": [
        "print(\"01_add_two_numbers\")\n",
        "\n",
        "def main():\n",
        "  print(\"This program adds two numbers.\")\n",
        "  num1 : str = input(\"Enter your first_number: \")\n",
        "  num1 : int = int(num1)\n",
        "  num2 : str = input(\"Enter your second_number: \")\n",
        "  num2 : int = int(num2)\n",
        "  sum : int = num1 + num2\n",
        "  print(\"The sum of\", num1, \"and\", num2, \"is\", sum)\n",
        "\n",
        "if __name__ == \"__main__\":\n",
        "  main()"
      ],
      "metadata": {
        "colab": {
          "base_uri": "https://localhost:8080/"
        },
        "id": "veK74BSLmYfF",
        "outputId": "4a95f6b4-e3df-4599-ee7b-dcf2e6d0e0a4"
      },
      "execution_count": 7,
      "outputs": [
        {
          "output_type": "stream",
          "name": "stdout",
          "text": [
            "01_add_two_numbers\n",
            "This program adds two numbers.\n",
            "Enter your first_number: 22\n",
            "Enter your second_number: 22\n",
            "The sum of 22 and 22 is 44\n"
          ]
        }
      ]
    },
    {
      "cell_type": "code",
      "source": [
        "print(\"02_agreement_bot\")\n",
        "\n",
        "def main():\n",
        "  print(\"This is an agrremant bot which always agrees with the user :)\")\n",
        "  user_input :str = input(\"What's your favorite animal ? \")\n",
        "  print(f\"My favorite animal is Also {user_input} \")\n",
        "\n",
        "if __name__ == \"__main__\":\n",
        "  main()"
      ],
      "metadata": {
        "colab": {
          "base_uri": "https://localhost:8080/"
        },
        "id": "R4IW_wTDkp7X",
        "outputId": "d9b18c79-5968-4e5e-9461-b7bd806b8d4e"
      },
      "execution_count": 2,
      "outputs": [
        {
          "output_type": "stream",
          "name": "stdout",
          "text": [
            "02_agreement_bot\n",
            "This is an agrremant bot which always agrees with the user :)\n",
            "What's your favorite animal ? Lion\n",
            "My favorite animal is Also Lion \n"
          ]
        }
      ]
    },
    {
      "cell_type": "code",
      "source": [
        "print(\"03_fahrenheit_to_celsius\")\n",
        "\n",
        "def main():\n",
        "  print(\"This is program to convert temperature from fahrenheit to degree celsius\")\n",
        "  degree_fahrenheit : str = float(input(\"Enter temperature in fahrenheit :\"))\n",
        "  degree_celsius = (degree_fahrenheit-32)*5.0/9.0\n",
        "  print(f\"Temperature in degree celsius is : {degree_celsius} C\")\n",
        "\n",
        "if __name__ == \"__main__\":\n",
        "  main()"
      ],
      "metadata": {
        "colab": {
          "base_uri": "https://localhost:8080/"
        },
        "id": "cymKS1Opk1D9",
        "outputId": "29a8bc3a-f3a8-4c66-b5c0-83b493414b87"
      },
      "execution_count": 3,
      "outputs": [
        {
          "output_type": "stream",
          "name": "stdout",
          "text": [
            "03_fahrenheit_to_celsius\n",
            "This is program to convert temperature from fahrenheit to degree celsius\n",
            "Enter temperature in fahrenheit :233\n",
            "Temperature in degree celsius is : 111.66666666666667 C\n"
          ]
        }
      ]
    },
    {
      "cell_type": "code",
      "source": [
        "print(\"04_how_old_are_they\")\n",
        "\n",
        "def main():\n",
        "    anton : int = 21\n",
        "    beth : int = 6 + anton\n",
        "    chen : int = 20 + beth\n",
        "    drew  : int= chen + anton\n",
        "    ethan : int = chen\n",
        "\n",
        "\n",
        "    print(\"Anton is \" + str(anton))\n",
        "    print(\"Beth is \" + str(beth))\n",
        "    print(\"Chen is \" + str(chen))\n",
        "    print(\"Drew is \" + str(drew))\n",
        "    print(\"Ethan is \" + str(ethan))\n",
        "\n",
        "\n",
        "if __name__ == \"__main__\":\n",
        "  main()"
      ],
      "metadata": {
        "colab": {
          "base_uri": "https://localhost:8080/"
        },
        "id": "D_MphxPlk6em",
        "outputId": "591ebd91-4448-4c77-d8f8-c86ed1205c43"
      },
      "execution_count": 4,
      "outputs": [
        {
          "output_type": "stream",
          "name": "stdout",
          "text": [
            "04_how_old_are_they\n",
            "Anton is 21\n",
            "Beth is 27\n",
            "Chen is 47\n",
            "Drew is 68\n",
            "Ethan is 47\n"
          ]
        }
      ]
    },
    {
      "cell_type": "code",
      "source": [
        "print(\"05_triangle_perimeter\")\n",
        "\n",
        "def main():\n",
        "  side1 : float = float(input(\"What is the Length of side1 ? \"))\n",
        "  side2 : float = float(input(\"What is the Length of side2 ? \"))\n",
        "  side3 : float = float(input(\"What is the Length of side3 ? \"))\n",
        "  perimeter : float = side1 + side2 + side3\n",
        "  print(f\"The perimeter of the triangle is {perimeter}\")\n",
        "\n",
        "if __name__ == \"__main__\":\n",
        "  main()"
      ],
      "metadata": {
        "colab": {
          "base_uri": "https://localhost:8080/"
        },
        "id": "LjvlDec7lCGO",
        "outputId": "35aea3d6-5749-40b2-f709-a4b27e5635c5"
      },
      "execution_count": 5,
      "outputs": [
        {
          "output_type": "stream",
          "name": "stdout",
          "text": [
            "05_triangle_perimeter\n",
            "What is the Length of side1 ? 22\n",
            "What is the Length of side2 ? 21\n",
            "What is the Length of side3 ? 34\n",
            "The perimeter of the triangle is 77.0\n"
          ]
        }
      ]
    },
    {
      "cell_type": "code",
      "source": [
        "print(\"06_square_number\")\n",
        "\n",
        "def main():\n",
        "  print(\"This program print the square of the entered number\")\n",
        "  num = float(input(\"Enter a number: \"))\n",
        "  square = num ** 2\n",
        "  print(f\"The square of {num} is {square}\")\n",
        "\n",
        "if __name__ == \"__main__\":\n",
        "  main()"
      ],
      "metadata": {
        "colab": {
          "base_uri": "https://localhost:8080/"
        },
        "id": "UhF69KRulHR5",
        "outputId": "dc227ede-9f74-45c5-bb1e-b1c896f5d869"
      },
      "execution_count": 6,
      "outputs": [
        {
          "output_type": "stream",
          "name": "stdout",
          "text": [
            "06_square_number\n",
            "This program print the square of the entered number\n",
            "Enter a number: 5\n",
            "The square of 5.0 is 25.0\n"
          ]
        }
      ]
    },
    {
      "cell_type": "code",
      "source": [],
      "metadata": {
        "id": "zdDmZTZAlNvm"
      },
      "execution_count": null,
      "outputs": []
    }
  ]
}