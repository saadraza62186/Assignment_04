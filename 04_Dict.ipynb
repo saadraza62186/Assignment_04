{
  "nbformat": 4,
  "nbformat_minor": 0,
  "metadata": {
    "colab": {
      "provenance": [],
      "gpuType": "T4",
      "authorship_tag": "ABX9TyO6WOrzu7Dw0F4Yi6BZpkti",
      "include_colab_link": true
    },
    "kernelspec": {
      "name": "python3",
      "display_name": "Python 3"
    },
    "language_info": {
      "name": "python"
    },
    "accelerator": "GPU"
  },
  "cells": [
    {
      "cell_type": "markdown",
      "metadata": {
        "id": "view-in-github",
        "colab_type": "text"
      },
      "source": [
        "<a href=\"https://colab.research.google.com/github/saadraza62186/Assignment_04/blob/main/04_Dict.ipynb\" target=\"_parent\"><img src=\"https://colab.research.google.com/assets/colab-badge.svg\" alt=\"Open In Colab\"/></a>"
      ]
    },
    {
      "cell_type": "markdown",
      "source": [
        "00_Assignment\n"
      ],
      "metadata": {
        "id": "R0NQP9Bsssbb"
      }
    },
    {
      "cell_type": "code",
      "execution_count": 1,
      "metadata": {
        "colab": {
          "base_uri": "https://localhost:8080/"
        },
        "id": "hyNrIUI7sSUy",
        "outputId": "26846cde-7f69-450a-a866-46fce6ee02e1"
      },
      "outputs": [
        {
          "output_type": "stream",
          "name": "stdout",
          "text": [
            "Enter a number: 12\n",
            "Enter a number: 12\n",
            "Enter a number: 22\n",
            "Enter a number: 22\n",
            "Enter a number: \n",
            "12 appears 2 times\n",
            "22 appears 2 times\n"
          ]
        }
      ],
      "source": [
        "def get_user_numbers():\n",
        "  user_numbers=[]\n",
        "  while True:\n",
        "    user_input=input(\"Enter a number: \")\n",
        "    if user_input == \"\":\n",
        "      break\n",
        "    num=int(user_input)\n",
        "    user_numbers.append(num)\n",
        "  return user_numbers\n",
        "\n",
        "def count_numbers(num_list):\n",
        "  num_dict={}\n",
        "  for num in num_list:\n",
        "    if num not in num_dict:\n",
        "      num_dict[num]=1\n",
        "    else:\n",
        "      num_dict[num] +=1\n",
        "  return num_dict\n",
        "\n",
        "def print_counts(num_dict):\n",
        "  for num in num_dict:\n",
        "    print(f\"{num} appears {num_dict[num]} times\" )\n",
        "\n",
        "def count():\n",
        "  user_numbers=get_user_numbers()\n",
        "  num_dict=count_numbers(user_numbers)\n",
        "  print_counts(num_dict)\n",
        "\n",
        "if __name__ == \"__main__\":\n",
        "  count()"
      ]
    },
    {
      "cell_type": "markdown",
      "source": [
        "01_Assignment"
      ],
      "metadata": {
        "id": "EId9IJe9s_Gb"
      }
    },
    {
      "cell_type": "code",
      "source": [
        "def read_phone_numbers():\n",
        "  phonebook={}\n",
        "  while True:\n",
        "    name=input(\"Name:\")\n",
        "    if name == \"\":\n",
        "      break\n",
        "    number=input(\"Number:\")\n",
        "    phonebook[name]=number\n",
        "  return phonebook\n",
        "\n",
        "def print_phonebook(phonebook):\n",
        "  for name in phonebook:\n",
        "    print(f\"{name} -> {phonebook[name]}\")\n",
        "\n",
        "def lookup_numbers(phonebook):\n",
        "  while True:\n",
        "    name=input(\"Enter a name to lookup :\")\n",
        "    if name == \"\":\n",
        "      break\n",
        "    if name not in phonebook:\n",
        "      print(f\"{name} is not in the phonebook\")\n",
        "    else:\n",
        "      print(phonebook[name])\n",
        "\n",
        "def phonebook():\n",
        "  phonebook=read_phone_numbers()\n",
        "  print_phonebook(phonebook)\n",
        "  lookup_numbers(phonebook)\n",
        "\n",
        "if __name__ == \"__main__\":\n",
        "  phonebook()\n",
        ""
      ],
      "metadata": {
        "colab": {
          "base_uri": "https://localhost:8080/"
        },
        "id": "n5O6FTJHs21U",
        "outputId": "262403ea-89d0-4147-a452-5727458f27bb"
      },
      "execution_count": 2,
      "outputs": [
        {
          "name": "stdout",
          "output_type": "stream",
          "text": [
            "Name:Saad\n",
            "Number:222\n",
            "Name:\n",
            "Saad -> 222\n",
            "Enter a name to lookup :Saad\n",
            "222\n",
            "Enter a name to lookup :Raza\n",
            "Raza is not in the phonebook\n",
            "Enter a name to lookup :ww\n",
            "ww is not in the phonebook\n",
            "Enter a name to lookup :\n"
          ]
        }
      ]
    },
    {
      "cell_type": "markdown",
      "source": [
        "**02_Assignment**"
      ],
      "metadata": {
        "id": "skRNGXHXtNIh"
      }
    },
    {
      "cell_type": "code",
      "source": [
        "def pop_up_shop():\n",
        "  fruits = {'apple': 1.5, 'durian': 50, 'jackfruit': 80, 'kiwi': 1, 'rambutan': 1.5, 'mango': 5}\n",
        "  total_cost=0\n",
        "  for fruit_name in fruits:\n",
        "    price=fruits[fruit_name]\n",
        "    amount_bought=int(input(f\"how many {fruit_name} do you want to buy?\"))\n",
        "    total_cost += (price* amount_bought)\n",
        "\n",
        "  print(f\"your total is = ${total_cost}\")\n",
        "\n",
        "if __name__ == \"__main__\":\n",
        "  pop_up_shop()\n",
        "\n",
        ""
      ],
      "metadata": {
        "colab": {
          "base_uri": "https://localhost:8080/"
        },
        "id": "48ADx3sNtQRL",
        "outputId": "b83c2eaa-434e-4153-8fe3-c0f23091555e"
      },
      "execution_count": 3,
      "outputs": [
        {
          "output_type": "stream",
          "name": "stdout",
          "text": [
            "how many apple do you want to buy?12\n",
            "how many durian do you want to buy?22\n",
            "how many jackfruit do you want to buy?22\n",
            "how many kiwi do you want to buy?33\n",
            "how many rambutan do you want to buy?44\n",
            "how many mango do you want to buy?44\n",
            "your total is = $3197.0\n"
          ]
        }
      ]
    },
    {
      "cell_type": "markdown",
      "source": [
        "03_Assignment"
      ],
      "metadata": {
        "id": "jZYcnYvytYLB"
      }
    },
    {
      "cell_type": "code",
      "source": [
        "import hashlib\n",
        "from hashlib import sha256\n",
        "def hash_password(password):\n",
        "  return hashlib.sha256(password.encode()).hexdigest()\n",
        "\n",
        "stored_logins={\n",
        "    \"user1@gmail.com\":hash_password(\"password1\"),\n",
        "    \"user2@gmail.com\":hash_password(\"password2\")\n",
        "}\n",
        "def login(email,password):\n",
        "  if email in stored_logins:\n",
        "   return stored_logins[email] == hash_password(password)\n",
        "  return False\n",
        "\n",
        "if __name__ == \"__main__\":\n",
        "  email=input(\"Enter your email: \")\n",
        "  password=input(\"Enter your password: \")\n",
        "  if login(email,password):\n",
        "    print(\"Login successful\")\n",
        "  else:\n",
        "    print(\"login failed\")\n",
        ""
      ],
      "metadata": {
        "colab": {
          "base_uri": "https://localhost:8080/"
        },
        "id": "qYHusrQ0tZ6Z",
        "outputId": "501fb577-c0e6-43fc-b4c5-f5a148081c26"
      },
      "execution_count": 5,
      "outputs": [
        {
          "output_type": "stream",
          "name": "stdout",
          "text": [
            "Enter your email: saad\n",
            "Enter your password: saaaf\n",
            "login failed\n"
          ]
        }
      ]
    },
    {
      "cell_type": "code",
      "source": [
        "\n"
      ],
      "metadata": {
        "id": "2jLP4GEMtDor"
      },
      "execution_count": null,
      "outputs": []
    }
  ]
}