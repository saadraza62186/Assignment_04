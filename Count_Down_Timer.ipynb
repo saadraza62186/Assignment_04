{
  "nbformat": 4,
  "nbformat_minor": 0,
  "metadata": {
    "colab": {
      "provenance": [],
      "authorship_tag": "ABX9TyMVOPueuKJgjKmkAZ77qZNF",
      "include_colab_link": true
    },
    "kernelspec": {
      "name": "python3",
      "display_name": "Python 3"
    },
    "language_info": {
      "name": "python"
    }
  },
  "cells": [
    {
      "cell_type": "markdown",
      "metadata": {
        "id": "view-in-github",
        "colab_type": "text"
      },
      "source": [
        "<a href=\"https://colab.research.google.com/github/saadraza62186/Assignment_04/blob/main/Count_Down_Timer.ipynb\" target=\"_parent\"><img src=\"https://colab.research.google.com/assets/colab-badge.svg\" alt=\"Open In Colab\"/></a>"
      ]
    },
    {
      "cell_type": "code",
      "execution_count": 1,
      "metadata": {
        "colab": {
          "base_uri": "https://localhost:8080/"
        },
        "id": "fqweWEBXwohs",
        "outputId": "34c5bf58-fbcd-4f77-9ace-2739c3cd403c"
      },
      "outputs": [
        {
          "output_type": "stream",
          "name": "stdout",
          "text": [
            "Enter the time in seconds:3\n",
            "Timer Stopped!\n"
          ]
        }
      ],
      "source": [
        "import time\n",
        "def count_down(t):\n",
        "  while t:\n",
        "    mins,secs=divmod(t,60)\n",
        "    timer=\"{:02d}:{:02d}\".format(mins,secs)\n",
        "    print(timer,end=\"\\r\")\n",
        "    time.sleep(1)\n",
        "    t -= 1\n",
        "  print(\"Timer Stopped!\")\n",
        "t=input(\"Enter the time in seconds:\")\n",
        "count_down(int(t))"
      ]
    },
    {
      "cell_type": "code",
      "source": [],
      "metadata": {
        "id": "ZBmdt8zfw0ZP"
      },
      "execution_count": null,
      "outputs": []
    }
  ]
}