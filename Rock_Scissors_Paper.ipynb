{
  "nbformat": 4,
  "nbformat_minor": 0,
  "metadata": {
    "colab": {
      "provenance": [],
      "authorship_tag": "ABX9TyM14RvlxfYuJkhFOYAtC6xO",
      "include_colab_link": true
    },
    "kernelspec": {
      "name": "python3",
      "display_name": "Python 3"
    },
    "language_info": {
      "name": "python"
    }
  },
  "cells": [
    {
      "cell_type": "markdown",
      "metadata": {
        "id": "view-in-github",
        "colab_type": "text"
      },
      "source": [
        "<a href=\"https://colab.research.google.com/github/saadraza62186/Assignment_04/blob/main/Rock_Scissors_Paper.ipynb\" target=\"_parent\"><img src=\"https://colab.research.google.com/assets/colab-badge.svg\" alt=\"Open In Colab\"/></a>"
      ]
    },
    {
      "cell_type": "code",
      "execution_count": 1,
      "metadata": {
        "colab": {
          "base_uri": "https://localhost:8080/"
        },
        "id": "OMa5MHWSzbnF",
        "outputId": "67020e91-a98e-48e9-e946-451ab07347c7"
      },
      "outputs": [
        {
          "output_type": "stream",
          "name": "stdout",
          "text": [
            " what's your choice? 'r' for rock ,  'p' for paper  and 's' for scissors r\n",
            "it's a tie\n"
          ]
        }
      ],
      "source": [
        "import random\n",
        "def play():\n",
        "  user=input(\" what\\'s your choice? 'r' for rock ,  'p' for paper  and 's' for scissors \" )\n",
        "  computer=random.choice(['r','p','s'])\n",
        "\n",
        "  if user == computer:\n",
        "    return \"it\\'s a tie\"\n",
        "\n",
        "  if is_win(user,computer):\n",
        "    return 'you won'\n",
        "\n",
        "  return 'you lost'\n",
        "\n",
        "def is_win(player,opponent):\n",
        "  if(player=='r' and opponent=='s') or (player=='s' and opponent=='p')or (player=='p' and opponent=='r'):\n",
        "    return True\n",
        "\n",
        "if __name__ == '__main__':\n",
        "  print(play())"
      ]
    },
    {
      "cell_type": "code",
      "source": [],
      "metadata": {
        "id": "vyfHcoNhzn0-"
      },
      "execution_count": null,
      "outputs": []
    }
  ]
}