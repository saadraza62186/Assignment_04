{
  "nbformat": 4,
  "nbformat_minor": 0,
  "metadata": {
    "colab": {
      "provenance": [],
      "authorship_tag": "ABX9TyNBn1iqhGlbfHskBUuBFgb3",
      "include_colab_link": true
    },
    "kernelspec": {
      "name": "python3",
      "display_name": "Python 3"
    },
    "language_info": {
      "name": "python"
    }
  },
  "cells": [
    {
      "cell_type": "markdown",
      "metadata": {
        "id": "view-in-github",
        "colab_type": "text"
      },
      "source": [
        "<a href=\"https://colab.research.google.com/github/saadraza62186/Assignment_04/blob/main/Basics.ipynb\" target=\"_parent\"><img src=\"https://colab.research.google.com/assets/colab-badge.svg\" alt=\"Open In Colab\"/></a>"
      ]
    },
    {
      "cell_type": "markdown",
      "source": [
        "00_Assignment"
      ],
      "metadata": {
        "id": "tbW2N2RAvtth"
      }
    },
    {
      "cell_type": "code",
      "execution_count": 1,
      "metadata": {
        "colab": {
          "base_uri": "https://localhost:8080/"
        },
        "id": "zSYJsqvavpsm",
        "outputId": "4b8b0bad-71c6-4a99-a11f-cd3ca4adac17"
      },
      "outputs": [
        {
          "output_type": "stream",
          "name": "stdout",
          "text": [
            "Hey there! What would you like to hear? joke\n",
            "Why do programmers prefer dark mode? Because the light attracts bugs!\n"
          ]
        }
      ],
      "source": [
        "prompt: str = \"Hey there! What would you like to hear? \"\n",
        "joke: str = \"Why do programmers prefer dark mode? Because the light attracts bugs!\"\n",
        "sorry: str = \"Oops! I can only share jokes. Try asking for one.\"\n",
        "\n",
        "def joke_bot():\n",
        "    user_input = input(prompt)\n",
        "    user_input = user_input.strip().lower()\n",
        "    if \"joke\" in user_input:\n",
        "        print(joke)\n",
        "    else:\n",
        "        print(sorry)\n",
        "\n",
        "if __name__ == \"__main__\":\n",
        "    joke_bot()"
      ]
    },
    {
      "cell_type": "markdown",
      "source": [
        "01_Assignment"
      ],
      "metadata": {
        "id": "bts6XInSv944"
      }
    },
    {
      "cell_type": "code",
      "source": [
        "def double_it():\n",
        "  user_value=int(input(\"Enter a number to double it : \"))\n",
        "  current_value=user_value *2\n",
        "  while current_value < 50:\n",
        "    print(current_value)\n",
        "    current_value=current_value*2\n",
        "  print(current_value)\n",
        "\n",
        "if __name__==\"__main__\":\n",
        "  double_it()"
      ],
      "metadata": {
        "colab": {
          "base_uri": "https://localhost:8080/"
        },
        "id": "yGV38chowBHx",
        "outputId": "a52dc507-690b-49ba-e9a0-ad649a1bfcf9"
      },
      "execution_count": 2,
      "outputs": [
        {
          "output_type": "stream",
          "name": "stdout",
          "text": [
            "Enter a number to double it : 23\n",
            "46\n",
            "92\n"
          ]
        }
      ]
    },
    {
      "cell_type": "markdown",
      "source": [
        "02_Assignment"
      ],
      "metadata": {
        "id": "vgC-SNfgwEVZ"
      }
    },
    {
      "cell_type": "code",
      "source": [
        "import time\n",
        "print(\"spaceship that is about to launch\")\n",
        "def lift_off():\n",
        " for i in range(10):\n",
        "    print(10-i)\n",
        "    time.sleep(1)\n",
        " print(\"Lift off!\")\n",
        "\n",
        "\n",
        "\n",
        "if __name__ == \"__main__\":\n",
        "  lift_off()"
      ],
      "metadata": {
        "colab": {
          "base_uri": "https://localhost:8080/"
        },
        "id": "JgtydsQxvys2",
        "outputId": "892c86fc-e525-4536-dc93-5b9806fa0ece"
      },
      "execution_count": 3,
      "outputs": [
        {
          "output_type": "stream",
          "name": "stdout",
          "text": [
            "spaceship that is about to launch\n",
            "10\n",
            "9\n",
            "8\n",
            "7\n",
            "6\n",
            "5\n",
            "4\n",
            "3\n",
            "2\n",
            "1\n",
            "Lift off!\n"
          ]
        }
      ]
    },
    {
      "cell_type": "markdown",
      "source": [
        "03_Assignment"
      ],
      "metadata": {
        "id": "2rEJK0SJwLah"
      }
    },
    {
      "cell_type": "code",
      "source": [
        "import random\n",
        "\n",
        "def guess():\n",
        "    secret_number = random.randint(0, 99)\n",
        "    print(\"I am thinking of a number between 0 to 99....\")\n",
        "    user_guess = int(input(\"Enter a guess...\"))\n",
        "\n",
        "    while user_guess != secret_number:\n",
        "        if user_guess > secret_number:\n",
        "            print(\"Sorry, guess again... too high\")\n",
        "        elif user_guess < secret_number:\n",
        "            print(\"Sorry, guess again... too low\")\n",
        "        user_guess = int(input(\"Enter a new guess: \"))\n",
        "\n",
        "    print(\"Congrats! The number was: \" + str(secret_number))\n",
        "\n",
        "if __name__ == \"__main__\":\n",
        "    guess()"
      ],
      "metadata": {
        "colab": {
          "base_uri": "https://localhost:8080/"
        },
        "id": "HweImb7rwIY8",
        "outputId": "4760caa4-13a2-4efe-e7a6-966f9fc454c3"
      },
      "execution_count": 4,
      "outputs": [
        {
          "output_type": "stream",
          "name": "stdout",
          "text": [
            "I am thinking of a number between 0 to 99....\n",
            "Enter a guess...22\n",
            "Sorry, guess again... too high\n",
            "Enter a new guess: 1\n",
            "Sorry, guess again... too low\n",
            "Enter a new guess: 2\n",
            "Sorry, guess again... too low\n",
            "Enter a new guess: 5\n",
            "Sorry, guess again... too high\n",
            "Enter a new guess: 3\n",
            "Sorry, guess again... too low\n",
            "Enter a new guess: 4\n",
            "Congrats! The number was: 4\n"
          ]
        }
      ]
    },
    {
      "cell_type": "markdown",
      "source": [
        "04_Assignment"
      ],
      "metadata": {
        "id": "bJrGV_qXwXGR"
      }
    },
    {
      "cell_type": "code",
      "source": [
        "import random\n",
        "def random_number():\n",
        "  for i in range(10):\n",
        "    value=random.randint(1,100)\n",
        "    print(value)\n",
        "if __name__==\"__main__\":\n",
        "  random_number()"
      ],
      "metadata": {
        "colab": {
          "base_uri": "https://localhost:8080/"
        },
        "id": "xBSEjy2BwQ-s",
        "outputId": "8ab3e8f6-22ce-40ea-a2e3-669dc0fa308d"
      },
      "execution_count": 5,
      "outputs": [
        {
          "output_type": "stream",
          "name": "stdout",
          "text": [
            "85\n",
            "86\n",
            "49\n",
            "85\n",
            "32\n",
            "14\n",
            "12\n",
            "41\n",
            "42\n",
            "87\n"
          ]
        }
      ]
    },
    {
      "cell_type": "code",
      "source": [],
      "metadata": {
        "id": "JO-5ol2Fwag2"
      },
      "execution_count": null,
      "outputs": []
    }
  ]
}