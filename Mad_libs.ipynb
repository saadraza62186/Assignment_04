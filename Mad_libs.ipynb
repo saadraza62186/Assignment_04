{
  "nbformat": 4,
  "nbformat_minor": 0,
  "metadata": {
    "colab": {
      "provenance": [],
      "authorship_tag": "ABX9TyPVt+a6TagswNdrHzbomIlx",
      "include_colab_link": true
    },
    "kernelspec": {
      "name": "python3",
      "display_name": "Python 3"
    },
    "language_info": {
      "name": "python"
    }
  },
  "cells": [
    {
      "cell_type": "markdown",
      "metadata": {
        "id": "view-in-github",
        "colab_type": "text"
      },
      "source": [
        "<a href=\"https://colab.research.google.com/github/saadraza62186/Assignment_04/blob/main/Mad_libs.ipynb\" target=\"_parent\"><img src=\"https://colab.research.google.com/assets/colab-badge.svg\" alt=\"Open In Colab\"/></a>"
      ]
    },
    {
      "cell_type": "code",
      "execution_count": 1,
      "metadata": {
        "colab": {
          "base_uri": "https://localhost:8080/"
        },
        "id": "P-qZyg3gypAp",
        "outputId": "9b2d673e-d678-40cd-f034-aa9ffd4f0706"
      },
      "outputs": [
        {
          "output_type": "stream",
          "name": "stdout",
          "text": [
            "Story:\n",
            "One day, tom woke up feeling happy. They decided to go on an adventure to Karachi Zoo.\n",
            " Before leaving, they packed a zoo, a Sushi, and, of course, their lucky Bubble Wrap Suit.\n",
            " When they arrived, they saw a Horse  Running in the middle of the street! \"Wow, that's the most excited thing I’ve ever seen!\" they shouted.\n",
            " Suddenly, a Kraken appeared and handed them a Water Bottle. \"Use this wisely,\" it said mysteriously before disappearing in a cloud of Expired Yogurt. \n",
            " Not knowing what to do, jenny decided to paint. But before they could, Taylor Swift ran up to them, yelling, \"Help! My Nose is stuck in a Stove! \n",
            " After a long day of Reading and Solving Puzzles, they finally made it home, only to realize they had left their Fake Mustache Glasses behind!  \n"
          ]
        }
      ],
      "source": [
        "import random\n",
        "import copy\n",
        "\n",
        "story=(\"One day, {} woke up feeling {}. They decided to go on an adventure to {}.\\n Before leaving, they packed a {}, a {}, and, of course, their lucky {}.\\n When they arrived, they saw a {}  {} in the middle of the street! \\\"Wow, that\\'s the most {} thing I’ve ever seen!\\\" they shouted.\\n Suddenly, a {} appeared and handed them a {}. \\\"Use this wisely,\\\" it said mysteriously before disappearing in a cloud of {}. \\n Not knowing what to do, {} decided to {}. But before they could, {} ran up to them, yelling, \\\"Help! My {} is stuck in a {}! \\n After a long day of {} and {}, they finally made it home, only to realize they had left their {} behind!  \")\n",
        "word_dictionay={\n",
        "    \"name\":[\"tom\" ,\"john\" ,\"jenny\"],\n",
        "    \"adjective\":[\n",
        "    \"happy\", \"sad\", \"angry\", \"joyful\", \"excited\", \"bored\",\"fresh\", \"lucky\",  \"happy\", \"soft\", \"kind\"],\n",
        "\n",
        "    \"places\":[\n",
        "    \"Clifton Beach\",\n",
        "    \"Mazar-e-Quaid\",\n",
        "    \"Port Grand\",\n",
        "    \"Turtle Beach\",\n",
        "    \"PAF Museum\",\n",
        "    \"Karachi Zoo\",\n",
        "    \"Do Darya\",\n",
        "    \"Manora Beach\",\n",
        "    \"Bahria Town Karachi\",\n",
        "    \"Hill Park\",\n",
        "    \"Safari Park\",\n",
        "] ,\n",
        "    \"nouns\": [\n",
        "  \"apple\", \"book\", \"car\", \"dog\", \"elephant\", \"flower\", \"guitar\", \"house\",\n",
        "  \"jacket\", \"lamp\", \"mountain\", \"notebook\", \"ocean\", \"pencil\", \"queen\",\n",
        "  \"robot\", \"sun\", \"tree\", \"umbrella\", \"violin\", \"window\", \"zebra\", \"camera\",\n",
        "  \"desk\", \"forest\", \"garden\", \"kite\", \"mirror\", \"piano\", \"zoo\"\n",
        "] ,\n",
        "\n",
        "    \"action_verb\": [\n",
        "  \"run\", \"jump\", \"swim\", \"write\", \"read\", \"sing\", \"dance\", \"climb\", \"throw\", \"catch\",\n",
        "  \"draw\", \"paint\", \"laugh\", \"cry\", \"shout\", \"whisper\", \"listen\", \"speak\", \"walk\", \"build\"\n",
        "] ,\n",
        "\n",
        "    \"household_item\" :[\"Table\", \"Chair\", \"Sofa\", \"Bed\", \"Blanket\", \"Wardrobe\", \"Mirror\", \"Lamp\", \"Clock\",\n",
        "                   \"Fan\", \"Air Conditioner\", \"Refrigerator\", \"Microwave\", \"Oven\", \"Stove\", \"Dishwasher\",\n",
        "                   \"Washing Machine\", \"Iron\"\n",
        "                   ] ,\n",
        "\n",
        "    \"food_item\" :[\"Biryani\", \"Pulao\", \"Pizza\", \"Burger\", \"Pasta\", \"Shawarma\", \"Tikka\", \"Fried Rice\", \"Sushi\", \"Steak\",\n",
        "              \"Grilled Chicken\", \"Lasagna\", \"Fish Curry\", \"Mutton Handi\", \"Nihari\", \"Haleem\", \"Paratha\", \"Chana Masala\",\n",
        "              \"Spring Rolls\", \"Samosa\", \"Pakora\", \"Dumplings\", \"Soup\"\n",
        "              ]  ,\n",
        "    \"silly_object\": [\"Rubber Chicken\", \"Wacky Waving Inflatable Tube Man\", \"Whoopee Cushion\", \"Googly Eyes\",\n",
        "                 \"Tiny Cowboy Hat\", \"Banana Phone\", \"Squeaky Hammer\", \"Fake Mustache\", \"Giant Foam Finger\",\n",
        "                 \"LED Shoelaces\", \"Dancing Cactus Toy\", \"Inflatable Unicorn Horn\", \"Slime\", \"Bubble Wrap Suit\",\n",
        "                 \"Spinning Bow Tie\", \"Gigantic Sunglasses\", \"Talking Fish Plaque\", \"Fuzzy Dice\", \"Toilet Mug\",\n",
        "                 \"Glow-in-the-Dark Socks\"\n",
        "                 ],\n",
        "\n",
        "    \"animal\" :[\"Lion\", \"Tiger\", \"Elephant\", \"Giraffe\", \"Zebra\", \"Kangaroo\", \"Panda\", \"Cheetah\",\n",
        "           \"Dolphin\", \"Penguin\", \"Wolf\", \"Bear\", \"Eagle\", \"Horse\", \"Octopus\"] ,\n",
        "    \"verbs_ing\" :[\"Running\", \"Jumping\", \"Swimming\", \"Dancing\", \"Singing\", \"Eating\", \"Drinking\", \"Writing\",\n",
        "             \"Reading\", \"Talking\", \"Walking\", \"Laughing\", \"Crying\", \"Sleeping\", \"Working\", \"Playing\",\n",
        "             \"Cooking\", \"Climbing\", \"Fishing\", \"Drawing\"],\n",
        "    \"mystical_creature\" : [\"Dragon\", \"Phoenix\", \"Unicorn\", \"Griffin\", \"Mermaid\", \"Kraken\", \"Werewolf\", \"Vampire\",\n",
        "                       \"Basilisk\", \"Chimera\", \"Fairy\", \"Goblin\", \"Elf\", \"Troll\", \"Centaur\", \"Minotaur\", \"Gorgon\",\n",
        "                       \"Pegasus\", \"Shadow Demon\", \"Hydra\", \"Sphinx\", \"Yeti\", \"Djinn\", \"Leviathan\", \"Banshee\"],\n",
        "    \"random_objects\":[\"Toothbrush\", \"Backpack\", \"Water Bottle\", \"Notebook\", \"Umbrella\", \"Spoon\", \"Clock\", \"Headphones\",\n",
        "                  \"Ladder\", \"Candle\", \"Tennis Ball\", \"Remote Control\", \"Sunglasses\", \"Rubber Band\", \"Paperclip\",\n",
        "                  \"Flashlight\", \"Pillow\", \"Shoelace\", \"Puzzle Piece\", \"Shopping Cart\"],\n",
        "    \"weird_substances\" :[\"Chewed Gum\", \"Melted Ice Cream\", \"Expired Yogurt\", \"Toe Jam\", \"Earwax\",\n",
        "                           \"Melted Cheese\", \"Mystery Fridge Slime\", \"Leftover Soap Goo\", \"Spilled Soda Syrup\",\n",
        "                           \"Runny Peanut Butter\", \"Sweaty Socks Smell\", \"Melted Lip Balm\", \"Banana Peel Residue\",\n",
        "                           \"Bubblegum Stuck Under a Table\", \"Cold Ketchup Blob\", \"Wet Bread\", \"Mysterious Car Cupholder Gunk\",\n",
        "                           \"Old Candle Wax\", \"Spilled Honey\", \"Sticky Remote Control Buttons\"],\n",
        "    \"celebrities\" :[\"Tom Cruise\", \"Angelina Jolie\", \"Leonardo DiCaprio\", \"Taylor Swift\", \"Will Smith\",\n",
        "               \"Beyoncé\", \"Robert Downey Jr.\", \"Jennifer Lawrence\", \"Johnny Depp\", \"Dwayne Johnson\",\n",
        "               \"Ariana Grande\", \"Keanu Reeves\", \"Selena Gomez\", \"Chris Hemsworth\"] ,\n",
        "    \"body_parts\" :[\"Head\", \"Arm\", \"Leg\", \"Hand\", \"Foot\", \"Eye\", \"Ear\", \"Nose\", \"Mouth\", \"Knee\"] ,\n",
        "    \"random_activities\" :[\"Jogging\", \"Painting\", \"Cooking\", \"Gardening\", \"Dancing\", \"Reading\", \"Writing\",\n",
        "                      \"Fishing\", \"Hiking\", \"Cycling\", \"Skateboarding\", \"Playing Chess\", \"Singing\",\n",
        "                      \"Watching Movies\", \"Photography\", \"Swimming\", \"Solving Puzzles\", \"Rock Climbing\",\n",
        "                      \"Playing Video Games\", \"Doing Yoga\"] ,\n",
        "    \"funny_objects\":[\"Rubber Chicken\", \"Whoopee Cushion\", \"Googly Eyes\", \"Tiny Cowboy Hat\", \"Banana Phone\",\n",
        "                 \"Squeaky Hammer\", \"Inflatable Unicorn Horn\", \"Giant Foam Finger\", \"Talking Fish Plaque\",\n",
        "                 \"Fake Mustache Glasses\"]\n",
        "\n",
        "\n",
        "}\n",
        "def get_word(type,local_dict):\n",
        "  word=local_dict[type]\n",
        "  count=len(word)-1\n",
        "  index=random.randint(0,count)\n",
        "  return local_dict[type].pop(index)\n",
        "\n",
        "def create_story():\n",
        "  local_dict=copy.deepcopy(word_dictionay)\n",
        "  return story.format(\n",
        "      get_word(\"name\",local_dict),\n",
        "      get_word(\"adjective\",local_dict),\n",
        "      get_word(\"places\",local_dict),\n",
        "      get_word(\"nouns\",local_dict),\n",
        "      get_word(\"food_item\",local_dict),\n",
        "      get_word(\"silly_object\",local_dict),\n",
        "      get_word(\"animal\",local_dict),\n",
        "      get_word(\"verbs_ing\",local_dict),\n",
        "      get_word(\"adjective\",local_dict),\n",
        "      get_word(\"mystical_creature\",local_dict),\n",
        "      get_word(\"random_objects\",local_dict),\n",
        "      get_word(\"weird_substances\",local_dict),\n",
        "      get_word(\"name\",local_dict),\n",
        "      get_word(\"action_verb\",local_dict),\n",
        "      get_word(\"celebrities\",local_dict),\n",
        "      get_word(\"body_parts\",local_dict),\n",
        "      get_word(\"household_item\",local_dict),\n",
        "      get_word(\"random_activities\",local_dict),\n",
        "      get_word(\"random_activities\",local_dict),\n",
        "      get_word(\"funny_objects\",local_dict)\n",
        "  )\n",
        "print (\"Story:\")\n",
        "print (create_story())\n",
        "if __name__ == \"__main__\":\n",
        "  create_story()\n",
        ""
      ]
    },
    {
      "cell_type": "code",
      "source": [],
      "metadata": {
        "id": "GQZYYZPXy9Yt"
      },
      "execution_count": null,
      "outputs": []
    }
  ]
}