{
  "nbformat": 4,
  "nbformat_minor": 0,
  "metadata": {
    "colab": {
      "provenance": [],
      "gpuType": "T4",
      "authorship_tag": "ABX9TyP4PhbxqwuzHHr/P3dB+7tY",
      "include_colab_link": true
    },
    "kernelspec": {
      "name": "python3",
      "display_name": "Python 3"
    },
    "language_info": {
      "name": "python"
    },
    "accelerator": "GPU"
  },
  "cells": [
    {
      "cell_type": "markdown",
      "metadata": {
        "id": "view-in-github",
        "colab_type": "text"
      },
      "source": [
        "<a href=\"https://colab.research.google.com/github/saadraza62186/Assignment_04/blob/main/03_Condition.ipynb\" target=\"_parent\"><img src=\"https://colab.research.google.com/assets/colab-badge.svg\" alt=\"Open In Colab\"/></a>"
      ]
    },
    {
      "cell_type": "markdown",
      "source": [
        "**01_Assignment**"
      ],
      "metadata": {
        "id": "fUKu7XZLrmnU"
      }
    },
    {
      "cell_type": "code",
      "execution_count": 1,
      "metadata": {
        "id": "9rrZkCvqq0eD",
        "colab": {
          "base_uri": "https://localhost:8080/"
        },
        "outputId": "351b2989-3675-4340-df0a-c0e8d30ffc2d"
      },
      "outputs": [
        {
          "output_type": "stream",
          "name": "stdout",
          "text": [
            "this is a program to print even numbers in range of 20\n",
            "0\n",
            "2\n",
            "4\n",
            "6\n",
            "8\n",
            "10\n",
            "12\n",
            "14\n"
          ]
        }
      ],
      "source": [
        "def even_numbers():\n",
        "  print(\"this is a program to print even numbers in range of 20\")\n",
        "  for i in range(15):\n",
        "      if i%2==0:\n",
        "        print(i)\n",
        "\n",
        "if __name__ == \"__main__\":\n",
        "    even_numbers()"
      ]
    },
    {
      "cell_type": "markdown",
      "source": [
        "**02_Assignment**"
      ],
      "metadata": {
        "id": "BeosNUhjrrOK"
      }
    },
    {
      "cell_type": "code",
      "source": [
        "Peturksbouipo_age:int=16\n",
        "Stanlau_age:int=25\n",
        "Mayengua_age=48\n",
        "def international_voting_age():\n",
        " print(\"This is a program to check user's age for voting\")\n",
        " user_age:int=int(input(\"How Old Are You?\"))\n",
        " if user_age >=Peturksbouipo_age:\n",
        "   print(f\"You can vote in Peturksbouipo where the voting age is {Peturksbouipo_age}\")\n",
        " else:\n",
        "   print(\"You can't vote in preturksbouipo\")\n",
        "\n",
        " if user_age >= Stanlau_age:\n",
        "  print(f\"You can vote in Stanlau where the voting age is {Stanlau_age}\")\n",
        " else:\n",
        "  print(\"You can't vote in Stanlau\")\n",
        "\n",
        " if user_age >=Mayengua_age:\n",
        "  print(f\"You can vote in Mayengua where the voting age is {Mayengua_age}\")\n",
        " else:\n",
        "  print(\"You can't vote in Mayengua\")\n",
        "\n",
        "\n",
        "if __name__ == \"__main__\":\n",
        "    international_voting_age()"
      ],
      "metadata": {
        "colab": {
          "base_uri": "https://localhost:8080/"
        },
        "id": "Vx2lQryCrtOy",
        "outputId": "3f5645e9-9a8b-4eeb-c11b-06c56fcbe007"
      },
      "execution_count": 2,
      "outputs": [
        {
          "output_type": "stream",
          "name": "stdout",
          "text": [
            "This is a program to check user's age for voting\n",
            "How Old Are You?22\n",
            "You can vote in Peturksbouipo where the voting age is 16\n",
            "You can't vote in Stanlau\n",
            "You can't vote in Mayengua\n"
          ]
        }
      ]
    },
    {
      "cell_type": "markdown",
      "source": [
        "**03_Assignment**"
      ],
      "metadata": {
        "id": "5ak-bBNprzK6"
      }
    },
    {
      "cell_type": "code",
      "source": [
        "def leap_year():\n",
        "  user_input:int=int(input(\"Enter a year to check if it is a leap year:\"))\n",
        "  if user_input%4==0:\n",
        "    print(f\"{user_input} is a leap year\")\n",
        "  else:\n",
        "    print(f\"{user_input} is not a leap year\")\n",
        "\n",
        "if __name__ == \"__main__\":\n",
        "    leap_year()"
      ],
      "metadata": {
        "colab": {
          "base_uri": "https://localhost:8080/"
        },
        "id": "zjUzTNMKr2JR",
        "outputId": "de5a1fa4-9ac0-4d09-b011-ce133c2544dc"
      },
      "execution_count": 3,
      "outputs": [
        {
          "output_type": "stream",
          "name": "stdout",
          "text": [
            "Enter a year to check if it is a leap year:2006\n",
            "2006 is not a leap year\n"
          ]
        }
      ]
    },
    {
      "cell_type": "markdown",
      "source": [
        "**04_Assignment**"
      ],
      "metadata": {
        "id": "cImtFlMRr7gS"
      }
    },
    {
      "cell_type": "code",
      "source": [
        "\n",
        "def height_check():\n",
        "  print(\"this is a program which checks if you're tall enough to ride\")\n",
        "  minimum_height:int=50\n",
        "  user_height:int=int(input(\"Enter your height in cm:\"))\n",
        "  if user_height >= minimum_height:\n",
        "    print(\"You're tall enough to ride\")\n",
        "  else:\n",
        "    print(\"You're not tall enough to ride maybe next year\")\n",
        "\n",
        "if __name__ == \"__main__\":\n",
        "    height_check()\n",
        ""
      ],
      "metadata": {
        "colab": {
          "base_uri": "https://localhost:8080/"
        },
        "id": "PcRvEvwDr9oZ",
        "outputId": "3488ed8d-cc66-407e-9c6e-e19ebe9d794f"
      },
      "execution_count": 4,
      "outputs": [
        {
          "output_type": "stream",
          "name": "stdout",
          "text": [
            "this is a program which checks if you're tall enough to ride\n",
            "Enter your height in cm:22\n",
            "You're not tall enough to ride maybe next year\n"
          ]
        }
      ]
    },
    {
      "cell_type": "markdown",
      "source": [
        "**05_Assignment**"
      ],
      "metadata": {
        "id": "vCc0ULXQsEKi"
      }
    },
    {
      "cell_type": "code",
      "source": [
        "import random\n",
        "n_numbers:int=10\n",
        "min_value:int=1\n",
        "max_value:int=100\n",
        "def random_numbers():\n",
        "  random_numbers_list=[]\n",
        "  for i in range(n_numbers):\n",
        "    random_numbers_list.append(random.randint(min_value,max_value))\n",
        "  print(random_numbers_list)\n",
        "\n",
        "if __name__ == \"__main__\":\n",
        "    random_numbers()"
      ],
      "metadata": {
        "colab": {
          "base_uri": "https://localhost:8080/"
        },
        "id": "R8QBiQUcsHXy",
        "outputId": "92f11e7d-290f-485e-9a93-a8a06eccaa32"
      },
      "execution_count": 5,
      "outputs": [
        {
          "output_type": "stream",
          "name": "stdout",
          "text": [
            "[48, 87, 47, 43, 1, 90, 91, 26, 70, 95]\n"
          ]
        }
      ]
    },
    {
      "cell_type": "code",
      "source": [],
      "metadata": {
        "id": "c_qu03JVq71L"
      },
      "execution_count": null,
      "outputs": []
    }
  ]
}