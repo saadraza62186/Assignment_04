{
  "nbformat": 4,
  "nbformat_minor": 0,
  "metadata": {
    "colab": {
      "provenance": [],
      "authorship_tag": "ABX9TyP/SlBYAz5ZyYwcu7vhVJSQ",
      "include_colab_link": true
    },
    "kernelspec": {
      "name": "python3",
      "display_name": "Python 3"
    },
    "language_info": {
      "name": "python"
    }
  },
  "cells": [
    {
      "cell_type": "markdown",
      "metadata": {
        "id": "view-in-github",
        "colab_type": "text"
      },
      "source": [
        "<a href=\"https://colab.research.google.com/github/saadraza62186/Assignment_04/blob/main/expressions.ipynb\" target=\"_parent\"><img src=\"https://colab.research.google.com/assets/colab-badge.svg\" alt=\"Open In Colab\"/></a>"
      ]
    },
    {
      "cell_type": "code",
      "execution_count": null,
      "metadata": {
        "id": "bJtMHNNFnMak"
      },
      "outputs": [],
      "source": []
    },
    {
      "cell_type": "markdown",
      "source": [
        "**01_Assignment**"
      ],
      "metadata": {
        "id": "ohoK8LzvnPWW"
      }
    },
    {
      "cell_type": "code",
      "source": [
        "import random\n",
        "def roll_dice():\n",
        "  die1: int = random.randint(1, 6)\n",
        "  die2: int = random.randint(1, 6)\n",
        "  total: int = die1 + die2\n",
        "  print(\"Total of two dice:\", total)\n",
        "\n",
        "\n",
        "def main():\n",
        "    die1: int = 10\n",
        "    print(\"die1 in main() starts as: \" + str(die1))\n",
        "    roll_dice()\n",
        "    roll_dice()\n",
        "    roll_dice()\n",
        "    print(\"die1 in main() is: \" + str(die1))\n",
        "\n",
        "if __name__ == '__main__':\n",
        "    main()"
      ],
      "metadata": {
        "colab": {
          "base_uri": "https://localhost:8080/"
        },
        "id": "1iusgqPcnTbb",
        "outputId": "da65d036-0d26-4c4a-ce8e-648aca161b2f"
      },
      "execution_count": 1,
      "outputs": [
        {
          "output_type": "stream",
          "name": "stdout",
          "text": [
            "die1 in main() starts as: 10\n",
            "Total of two dice: 7\n",
            "Total of two dice: 4\n",
            "Total of two dice: 9\n",
            "die1 in main() is: 10\n"
          ]
        }
      ]
    },
    {
      "cell_type": "code",
      "source": [],
      "metadata": {
        "id": "EwCCtH1FnWQ-"
      },
      "execution_count": null,
      "outputs": []
    },
    {
      "cell_type": "markdown",
      "source": [
        "**02_Assignment**"
      ],
      "metadata": {
        "id": "xNcB8kqNnf1D"
      }
    },
    {
      "cell_type": "code",
      "source": [
        "def energy():\n",
        "  C: int = 299792458\n",
        "  M:float=float(input(\"Enter mass in kilograms:\"))\n",
        "  E:float = M * (C ** 2)\n",
        "  print(\"e = m * C^2...\")\n",
        "  print(\"m = \" + str(M) + \" kg\")\n",
        "  print(\"C = \" + str(C) + \" m/s\")\n",
        "  print(str(E) + \" joules of energy!\")\n",
        "\n",
        "if __name__ == '__main__':\n",
        "    energy()"
      ],
      "metadata": {
        "colab": {
          "base_uri": "https://localhost:8080/"
        },
        "id": "mkwGFYUrniS1",
        "outputId": "64908d1b-2e7d-4158-c05f-7084e1908889"
      },
      "execution_count": 2,
      "outputs": [
        {
          "output_type": "stream",
          "name": "stdout",
          "text": [
            "Enter mass in kilograms:100\n",
            "e = m * C^2...\n",
            "m = 100.0 kg\n",
            "C = 299792458 m/s\n",
            "8.987551787368176e+18 joules of energy!\n"
          ]
        }
      ]
    },
    {
      "cell_type": "markdown",
      "source": [
        "**03_Assignment**"
      ],
      "metadata": {
        "id": "R45YtIEnnr8t"
      }
    },
    {
      "cell_type": "code",
      "source": [
        "def feet_to_inches():\n",
        "  inches_in_foot:int=12\n",
        "  feet:float=float(input(\"Enter number of feet:\"))\n",
        "  inches:float=feet*inches_in_foot\n",
        "  print(\"That is\", inches, \"inches!\")\n",
        "\n",
        "if __name__ == '__main__':\n",
        "    feet_to_inches()"
      ],
      "metadata": {
        "colab": {
          "base_uri": "https://localhost:8080/"
        },
        "id": "s_-jUR9gnwCc",
        "outputId": "84a41e54-1a62-42ed-ca56-2008f1672e58"
      },
      "execution_count": 3,
      "outputs": [
        {
          "output_type": "stream",
          "name": "stdout",
          "text": [
            "Enter number of feet:22\n",
            "That is 264.0 inches!\n"
          ]
        }
      ]
    },
    {
      "cell_type": "markdown",
      "source": [
        "**Assignment_04**"
      ],
      "metadata": {
        "id": "Af6yfcoQn1ZM"
      }
    },
    {
      "cell_type": "code",
      "source": [
        "import math\n",
        "\n",
        "def pythagorean_theorem():\n",
        "   ab: float = float(input(\"Enter the length of AB: \"))\n",
        "   ac: float = float(input(\"Enter the length of AC: \"))\n",
        "   bc:float=math.sqrt(ab**2 + ac**2)\n",
        "   print(\"the length of the hypotenuse/BC is = \" + str(bc))\n",
        "\n",
        "if __name__ == '__main__':\n",
        "    pythagorean_theorem()"
      ],
      "metadata": {
        "colab": {
          "base_uri": "https://localhost:8080/"
        },
        "id": "9rvjHR2In4Cl",
        "outputId": "e46ae266-9627-49d5-d393-3ef4966876f3"
      },
      "execution_count": 4,
      "outputs": [
        {
          "output_type": "stream",
          "name": "stdout",
          "text": [
            "Enter the length of AB: 23\n",
            "Enter the length of AC: 23\n",
            "the length of the hypotenuse/BC is = 32.526911934581186\n"
          ]
        }
      ]
    },
    {
      "cell_type": "markdown",
      "source": [
        "**Assignment_05**"
      ],
      "metadata": {
        "id": "CHxh2OV5oCGl"
      }
    },
    {
      "cell_type": "code",
      "source": [
        "from __future__ import division\n",
        "def division():\n",
        "  dividend:int=int(input(\"Enter the dividend:\"))\n",
        "  divisor:int=int(input(\"Enter the divisor:\"))\n",
        "  quotient:int=dividend//divisor\n",
        "  remainder:int=dividend%divisor\n",
        "  print(\"The result of this division is \" + str(quotient) + \" with a remainder of \" + str(remainder))\n",
        "\n",
        "if __name__ == '__main__':\n",
        "    division()"
      ],
      "metadata": {
        "colab": {
          "base_uri": "https://localhost:8080/"
        },
        "id": "zx9nhmc_oFDM",
        "outputId": "9bce12db-f15f-419d-9b43-679fa500d536"
      },
      "execution_count": 5,
      "outputs": [
        {
          "output_type": "stream",
          "name": "stdout",
          "text": [
            "Enter the dividend:25\n",
            "Enter the divisor:5\n",
            "The result of this division is 5 with a remainder of 0\n"
          ]
        }
      ]
    },
    {
      "cell_type": "markdown",
      "source": [
        "**Assignment_06**"
      ],
      "metadata": {
        "id": "CZqdgs6moMOs"
      }
    },
    {
      "cell_type": "code",
      "source": [
        "import random\n",
        "def roll():\n",
        "  NUM_SIDES: int = 6\n",
        "  die1:int=random.randint(1,NUM_SIDES)\n",
        "  die2:int=random.randint(1,NUM_SIDES)\n",
        "  total:int=die1+die2\n",
        "\n",
        "  print(\"Dice have\", NUM_SIDES, \"sides each.\")\n",
        "  print(\"First die:\", die1)\n",
        "  print(\"Second die:\", die2)\n",
        "  print(\"Total of two dice:\", total)\n",
        "\n",
        "if __name__ == '__main__':\n",
        "    roll()"
      ],
      "metadata": {
        "colab": {
          "base_uri": "https://localhost:8080/"
        },
        "id": "FRNzo7Q6oOwL",
        "outputId": "b7ae4902-aa5a-4799-c64f-de03da29f50c"
      },
      "execution_count": 6,
      "outputs": [
        {
          "output_type": "stream",
          "name": "stdout",
          "text": [
            "Dice have 6 sides each.\n",
            "First die: 4\n",
            "Second die: 3\n",
            "Total of two dice: 7\n"
          ]
        }
      ]
    },
    {
      "cell_type": "markdown",
      "source": [
        "Assignment_07"
      ],
      "metadata": {
        "id": "EsL6N8ktoSkU"
      }
    },
    {
      "cell_type": "code",
      "source": [
        "def seconds_in_year():\n",
        "  days_per_year:int=365\n",
        "  hours_per_day:int=24\n",
        "  minutes_per_hour:int=60\n",
        "  seconds_per_minute:int=60\n",
        "  print(\"There are \" + str(days_per_year * hours_per_day * minutes_per_hour * seconds_per_minute) + \" seconds in a year!\")\n",
        "\n",
        "\n",
        "if __name__ == '__main__':\n",
        "    seconds_in_year()"
      ],
      "metadata": {
        "colab": {
          "base_uri": "https://localhost:8080/"
        },
        "id": "wng50uRxoVGb",
        "outputId": "ba18243a-ecad-408d-9cc0-064860e4f6f9"
      },
      "execution_count": 7,
      "outputs": [
        {
          "output_type": "stream",
          "name": "stdout",
          "text": [
            "There are 31536000 seconds in a year!\n"
          ]
        }
      ]
    },
    {
      "cell_type": "markdown",
      "source": [
        "**Assignment_08**"
      ],
      "metadata": {
        "id": "s2OpINVsob41"
      }
    },
    {
      "cell_type": "code",
      "source": [
        "def mad_lib():\n",
        "  SENTENCE_START: str = \"Panaversity is fun. I learned to program and used Python to make my \"\n",
        "  adjective:str=input(\"Enter an adjective :\")\n",
        "  noun:str=input(\"Enter a noun :\")\n",
        "  verb:str=input(\"Enter a verb : \")\n",
        "  print(f\"{SENTENCE_START} {adjective} {noun} {verb}\")\n",
        "\n",
        "if __name__ == '__main__':\n",
        "    mad_lib()"
      ],
      "metadata": {
        "colab": {
          "base_uri": "https://localhost:8080/"
        },
        "id": "VFjZu8qBoffl",
        "outputId": "4810fbe3-2400-4941-9ae4-9fd19a7b5ed1"
      },
      "execution_count": 8,
      "outputs": [
        {
          "output_type": "stream",
          "name": "stdout",
          "text": [
            "Enter an adjective :23\n",
            "Enter a noun :23\n",
            "Enter a verb : 33\n",
            "Panaversity is fun. I learned to program and used Python to make my  23 23 33\n"
          ]
        }
      ]
    }
  ]
}